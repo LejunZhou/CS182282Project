{
 "cells": [
  {
   "cell_type": "code",
   "execution_count": 18,
   "id": "a01408eb",
   "metadata": {},
   "outputs": [],
   "source": [
    "import numpy as np\n",
    "import pandas as pd\n",
    "import pickle"
   ]
  },
  {
   "cell_type": "code",
   "execution_count": 9,
   "id": "5663ea8d",
   "metadata": {},
   "outputs": [],
   "source": [
    "# Load the voltage (U.csv) and SOC (SOC.csv) files\n",
    "current_path = \"90_ SOH//I.csv\"\n",
    "voltage_path = \"90_ SOH//U.csv\"\n",
    "soc_path = \"90_ SOH//SOC.csv\"\n",
    "\n",
    "df_current = pd.read_csv(current_path, header=None)\n",
    "df_voltage = pd.read_csv(voltage_path, header=None)\n",
    "df_soc = pd.read_csv(soc_path, header=None)\n",
    "\n",
    "# Convert to numpy arrays\n",
    "current_data = df_current.to_numpy(dtype=np.float32)[:, :, np.newaxis]  # shape: (N, 300, 1)\n",
    "voltage_data = df_voltage.to_numpy(dtype=np.float32)[:, :, np.newaxis]  # shape: (N, 300, 1)\n",
    "soc_data = df_soc.to_numpy(dtype=np.float32)  # shape: (N, 300)"
   ]
  },
  {
   "cell_type": "code",
   "execution_count": 10,
   "id": "9e4e4a71",
   "metadata": {},
   "outputs": [],
   "source": [
    "# Stack current and voltage to form input features (last dimension = 2)\n",
    "X = np.concatenate([current_data, voltage_data], axis=-1)  # shape: (N, 300, 2)\n",
    "y = soc_data  # shape: (N, 300)"
   ]
  },
  {
   "cell_type": "code",
   "execution_count": null,
   "id": "6fc25a11",
   "metadata": {},
   "outputs": [],
   "source": [
    "# Combine into a dictionary\n",
    "battery_data = {\n",
    "    'X': X,  # current + voltage\n",
    "    'y': y   # SOC\n",
    "}\n",
    "\n",
    "# Paths to save as .pkl\n",
    "pkl_output_path = \"90_ SOH/battery_dataset.pkl\"\n",
    "# Save as pickle\n",
    "with open(pkl_output_path, 'wb') as f:\n",
    "    pickle.dump(battery_data, f)"
   ]
  },
  {
   "cell_type": "code",
   "execution_count": null,
   "id": "c61640f4",
   "metadata": {},
   "outputs": [],
   "source": []
  }
 ],
 "metadata": {
  "kernelspec": {
   "display_name": "mamba-env",
   "language": "python",
   "name": "python3"
  },
  "language_info": {
   "codemirror_mode": {
    "name": "ipython",
    "version": 3
   },
   "file_extension": ".py",
   "mimetype": "text/x-python",
   "name": "python",
   "nbconvert_exporter": "python",
   "pygments_lexer": "ipython3",
   "version": "3.12.4"
  }
 },
 "nbformat": 4,
 "nbformat_minor": 5
}
